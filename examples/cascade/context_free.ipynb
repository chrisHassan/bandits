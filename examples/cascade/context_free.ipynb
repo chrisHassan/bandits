{
 "cells": [
  {
   "cell_type": "code",
   "execution_count": 30,
   "metadata": {},
   "outputs": [
    {
     "data": {
      "text/plain": [
       "DataTransformerRegistry.enable('default')"
      ]
     },
     "execution_count": 30,
     "metadata": {},
     "output_type": "execute_result"
    }
   ],
   "source": [
    "import numpy as np\n",
    "import pandas as pd\n",
    "import altair as alt\n",
    "from bandits.environment.cascade.context_free import CascadeContextFreeBandit\n",
    "\n",
    "alt.data_transformers.disable_max_rows()"
   ]
  },
  {
   "cell_type": "code",
   "execution_count": 31,
   "metadata": {},
   "outputs": [],
   "source": [
    "env = CascadeContextFreeBandit(\n",
    "    weights=np.random.beta(a=1, b=99, size=50),\n",
    "    max_steps=100_000,\n",
    "    len_list=5,\n",
    ")"
   ]
  },
  {
   "cell_type": "code",
   "execution_count": 32,
   "metadata": {},
   "outputs": [
    {
     "data": {
      "text/plain": [
       "array([ 4, 18, 28,  8, 11])"
      ]
     },
     "execution_count": 32,
     "metadata": {},
     "output_type": "execute_result"
    }
   ],
   "source": [
    "observation, info = env.reset()\n",
    "action = np.random.choice(\n",
    "    range(env.n_actions), size=env.len_list, replace=False\n",
    ")\n",
    "\n",
    "action"
   ]
  },
  {
   "cell_type": "code",
   "execution_count": 33,
   "metadata": {},
   "outputs": [],
   "source": [
    "reporting = []\n",
    "\n",
    "while True:\n",
    "    _, reward, terminated, truncated, info = env.step(action=action)\n",
    "    reporting.append(dict(\n",
    "        action=action,\n",
    "        reward=reward,\n",
    "        prob_of_click=info[\"prob_of_click\"],        \n",
    "    ))\n",
    "\n",
    "    if truncated:\n",
    "        break    \n",
    "    \n",
    "    action = np.random.choice(\n",
    "        range(env.n_actions), size=env.len_list, replace=False\n",
    "    )"
   ]
  },
  {
   "cell_type": "code",
   "execution_count": 34,
   "metadata": {},
   "outputs": [
    {
     "data": {
      "text/html": [
       "<div>\n",
       "<style scoped>\n",
       "    .dataframe tbody tr th:only-of-type {\n",
       "        vertical-align: middle;\n",
       "    }\n",
       "\n",
       "    .dataframe tbody tr th {\n",
       "        vertical-align: top;\n",
       "    }\n",
       "\n",
       "    .dataframe thead th {\n",
       "        text-align: right;\n",
       "    }\n",
       "</style>\n",
       "<table border=\"1\" class=\"dataframe\">\n",
       "  <thead>\n",
       "    <tr style=\"text-align: right;\">\n",
       "      <th></th>\n",
       "      <th>action</th>\n",
       "      <th>reward</th>\n",
       "      <th>prob_of_click</th>\n",
       "      <th>optimal_prob_of_click</th>\n",
       "      <th>time_idx</th>\n",
       "      <th>cumsum_of_prob_of_click</th>\n",
       "      <th>cumsum_of_optimal_prob_of_click</th>\n",
       "      <th>cumsum_of_reward</th>\n",
       "    </tr>\n",
       "  </thead>\n",
       "  <tbody>\n",
       "    <tr>\n",
       "      <th>0</th>\n",
       "      <td>[4, 18, 28, 8, 11]</td>\n",
       "      <td>0</td>\n",
       "      <td>0.018795</td>\n",
       "      <td>0.171845</td>\n",
       "      <td>0</td>\n",
       "      <td>0.018795</td>\n",
       "      <td>0.171845</td>\n",
       "      <td>0</td>\n",
       "    </tr>\n",
       "    <tr>\n",
       "      <th>1</th>\n",
       "      <td>[44, 19, 5, 42, 29]</td>\n",
       "      <td>0</td>\n",
       "      <td>0.059636</td>\n",
       "      <td>0.171845</td>\n",
       "      <td>1</td>\n",
       "      <td>0.078430</td>\n",
       "      <td>0.343689</td>\n",
       "      <td>0</td>\n",
       "    </tr>\n",
       "    <tr>\n",
       "      <th>2</th>\n",
       "      <td>[25, 49, 22, 7, 36]</td>\n",
       "      <td>0</td>\n",
       "      <td>0.109715</td>\n",
       "      <td>0.171845</td>\n",
       "      <td>2</td>\n",
       "      <td>0.188145</td>\n",
       "      <td>0.515534</td>\n",
       "      <td>0</td>\n",
       "    </tr>\n",
       "    <tr>\n",
       "      <th>3</th>\n",
       "      <td>[24, 11, 35, 45, 26]</td>\n",
       "      <td>0</td>\n",
       "      <td>0.036208</td>\n",
       "      <td>0.171845</td>\n",
       "      <td>3</td>\n",
       "      <td>0.224353</td>\n",
       "      <td>0.687378</td>\n",
       "      <td>0</td>\n",
       "    </tr>\n",
       "    <tr>\n",
       "      <th>4</th>\n",
       "      <td>[30, 12, 43, 25, 39]</td>\n",
       "      <td>0</td>\n",
       "      <td>0.056908</td>\n",
       "      <td>0.171845</td>\n",
       "      <td>4</td>\n",
       "      <td>0.281261</td>\n",
       "      <td>0.859223</td>\n",
       "      <td>0</td>\n",
       "    </tr>\n",
       "  </tbody>\n",
       "</table>\n",
       "</div>"
      ],
      "text/plain": [
       "                 action  reward  prob_of_click  optimal_prob_of_click  \\\n",
       "0    [4, 18, 28, 8, 11]       0       0.018795               0.171845   \n",
       "1   [44, 19, 5, 42, 29]       0       0.059636               0.171845   \n",
       "2   [25, 49, 22, 7, 36]       0       0.109715               0.171845   \n",
       "3  [24, 11, 35, 45, 26]       0       0.036208               0.171845   \n",
       "4  [30, 12, 43, 25, 39]       0       0.056908               0.171845   \n",
       "\n",
       "   time_idx  cumsum_of_prob_of_click  cumsum_of_optimal_prob_of_click  \\\n",
       "0         0                 0.018795                         0.171845   \n",
       "1         1                 0.078430                         0.343689   \n",
       "2         2                 0.188145                         0.515534   \n",
       "3         3                 0.224353                         0.687378   \n",
       "4         4                 0.281261                         0.859223   \n",
       "\n",
       "   cumsum_of_reward  \n",
       "0                 0  \n",
       "1                 0  \n",
       "2                 0  \n",
       "3                 0  \n",
       "4                 0  "
      ]
     },
     "execution_count": 34,
     "metadata": {},
     "output_type": "execute_result"
    }
   ],
   "source": [
    "reporting_df = pd.DataFrame(reporting).assign(\n",
    "    optimal_prob_of_click=env.optimal_reward,\n",
    "    time_idx=lambda x: x.index\n",
    ").assign(\n",
    "    cumsum_of_prob_of_click=lambda x: x['prob_of_click'].cumsum(),\n",
    "    cumsum_of_optimal_prob_of_click=lambda x: x['optimal_prob_of_click'].cumsum(),\n",
    "    cumsum_of_reward=lambda x: x['reward'].cumsum(),    \n",
    ")\n",
    "reporting_df.head()"
   ]
  },
  {
   "cell_type": "code",
   "execution_count": 37,
   "metadata": {},
   "outputs": [],
   "source": [
    "reporting_ff_df = reporting_df.melt(\n",
    "    id_vars=['time_idx', 'action'],\n",
    "    value_vars=['cumsum_of_prob_of_click', 'cumsum_of_optimal_prob_of_click']\n",
    ")"
   ]
  },
  {
   "cell_type": "code",
   "execution_count": 40,
   "metadata": {},
   "outputs": [],
   "source": [
    "alt.Chart(reporting_ff_df).mark_line().encode(\n",
    "    y=alt.Y('value'),\n",
    "    x=alt.X('time_idx'),\n",
    "    color='variable'\n",
    ").properties(width=800)"
   ]
  },
  {
   "cell_type": "code",
   "execution_count": null,
   "metadata": {},
   "outputs": [],
   "source": []
  }
 ],
 "metadata": {
  "kernelspec": {
   "display_name": ".venv",
   "language": "python",
   "name": "python3"
  },
  "language_info": {
   "codemirror_mode": {
    "name": "ipython",
    "version": 3
   },
   "file_extension": ".py",
   "mimetype": "text/x-python",
   "name": "python",
   "nbconvert_exporter": "python",
   "pygments_lexer": "ipython3",
   "version": "3.11.7"
  }
 },
 "nbformat": 4,
 "nbformat_minor": 2
}
