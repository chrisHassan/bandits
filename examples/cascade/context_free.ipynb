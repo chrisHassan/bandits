{
 "cells": [
  {
   "cell_type": "code",
   "execution_count": 1,
   "metadata": {},
   "outputs": [],
   "source": [
    "import numpy as np\n",
    "import pandas as pd\n",
    "import altair as alt\n",
    "from bandits.environment.cascade.context_free import CascadeContextFreeBandit\n",
    "from bandits.policy.context_free import BernoulliTS, Random\n",
    "from bandits.plotting import plot_beta_dist\n",
    "import vegafusion as vf\n",
    "from typing import TypedDict\n",
    "from dataclasses import dataclass"
   ]
  },
  {
   "cell_type": "code",
   "execution_count": 2,
   "metadata": {},
   "outputs": [
    {
     "data": {
      "text/plain": [
       "DataTransformerRegistry.enable('json')"
      ]
     },
     "execution_count": 2,
     "metadata": {},
     "output_type": "execute_result"
    }
   ],
   "source": [
    "alt.data_transformers.enable('json') # saves the data locally in .json file so notebook doesn't get large\n",
    "# or can allow altair to keep the data in the notebook using alt.data_transformers.disable_max_rows() but it will create large notebooks!"
   ]
  },
  {
   "cell_type": "code",
   "execution_count": 3,
   "metadata": {},
   "outputs": [],
   "source": [
    "N_ACTIONS = 20\n",
    "LEN_LIST = 5"
   ]
  },
  {
   "cell_type": "markdown",
   "metadata": {},
   "source": [
    "# helper functions"
   ]
  },
  {
   "cell_type": "code",
   "execution_count": 4,
   "metadata": {},
   "outputs": [],
   "source": [
    "def plot_pdf_vs_actual(\n",
    "    pdf_df: pd.DataFrame,\n",
    "    actuals_df: pd.DataFrame,\n",
    "    width: int =500,\n",
    "    height: int =250\n",
    ") -> alt.Chart:\n",
    "        \n",
    "    pdf_charts = alt.Chart(pdf_df).mark_line().encode(\n",
    "        y=alt.Y('pdf'),\n",
    "        x=alt.X('x', title='θ'),\n",
    "        color=alt.Color('action:N', legend=None),\n",
    "        tooltip = [\n",
    "            'action',\n",
    "            alt.Tooltip('pdf', format='0.4', title='θ'),\n",
    "        ]\n",
    "    )\n",
    "\n",
    "    actual_charts = alt.Chart(actuals_df).mark_rule().encode(\n",
    "        x=alt.X('w', title='θ'),\n",
    "        color=alt.Color('action:N', legend=None),\n",
    "        tooltip = [\n",
    "            'action',\n",
    "            alt.Tooltip('w', format='0.4', title='θ'),\n",
    "        ]        \n",
    "    )\n",
    "\n",
    "    final_chart = (pdf_charts + actual_charts).properties(\n",
    "        width=width, height=height\n",
    "    )\n",
    "\n",
    "    return final_chart"
   ]
  },
  {
   "cell_type": "code",
   "execution_count": 5,
   "metadata": {},
   "outputs": [],
   "source": [
    "def plot_actual_vs_predicted(\n",
    "    policy: BernoulliTS,\n",
    "    env: CascadeContextFreeBandit\n",
    ") -> alt.Chart:\n",
    "\n",
    "    pred = (policy.reward_counts / policy.action_counts)\n",
    "    act = env.weights\n",
    "\n",
    "    chart_df = pd.DataFrame(dict(pred=pred, act=act)).assign(\n",
    "        diff=lambda x: (x.act - x.pred).abs()\n",
    "    ).assign(\n",
    "        arm=lambda x: x.index,\n",
    "        optimal_arm=lambda x: x.arm.isin(env.optimal_action),\n",
    "        act_sort=lambda x: x.act,\n",
    "    ).sort_values(\n",
    "        ['diff'], ascending=False\n",
    "    ).reset_index(drop=True)\n",
    "\n",
    "    chart_ff_df = chart_df.melt(id_vars=['arm', 'optimal_arm', 'diff', 'act_sort'])\n",
    "\n",
    "    return alt.Chart(chart_ff_df).mark_point().encode(\n",
    "        y=alt.Y('arm:O', sort=alt.SortField(\"act_sort\", \"descending\")),\n",
    "        x=alt.X('value'),\n",
    "        color=alt.Color('variable'),\n",
    "    )"
   ]
  },
  {
   "cell_type": "code",
   "execution_count": 6,
   "metadata": {},
   "outputs": [],
   "source": [
    "class ActionRewardLogging(TypedDict):\n",
    "    action: list[int]\n",
    "    reward: float\n",
    "    prob_of_click: float\n",
    "\n",
    "def harmonise_reporting(\n",
    "    reporting: list[ActionRewardLogging],\n",
    "    env: CascadeContextFreeBandit,\n",
    "    policy_batch_check: int = 500,\n",
    ") -> pd.DataFrame:\n",
    "    \n",
    "    reporting_df = pd.DataFrame(reporting).assign(\n",
    "        optimal_prob_of_click=env.optimal_reward,\n",
    "        time_idx=lambda x: x.index\n",
    "    )\n",
    "    reporting_df['avg_reward'] = reporting_df['reward'].cumsum() / reporting_df['time_idx']\n",
    "    reporting_df['avg_reward'] = reporting_df['avg_reward'].fillna(0)\n",
    "    reporting_df['action_as_str'] = reporting_df['action'].apply(lambda x: '|'.join([str(y) for y in x]))\n",
    "    reporting_df['optimal_action_id'] = reporting_df['action'].apply(lambda x: all(x == env.optimal_action))\n",
    "    reporting_df['policy_batch_check'] = (reporting_df['time_idx']  - reporting_df['time_idx'] % policy_batch_check)\n",
    "    return reporting_df"
   ]
  },
  {
   "cell_type": "markdown",
   "metadata": {},
   "source": [
    "# Env setup"
   ]
  },
  {
   "cell_type": "code",
   "execution_count": 75,
   "metadata": {},
   "outputs": [],
   "source": [
    "np.random.seed(1234)\n",
    "\n",
    "env = CascadeContextFreeBandit(\n",
    "    weights=np.random.beta(a=1, b=99, size=N_ACTIONS),\n",
    "    max_steps=500_000,\n",
    "    len_list=LEN_LIST,\n",
    ")"
   ]
  },
  {
   "cell_type": "code",
   "execution_count": 76,
   "metadata": {},
   "outputs": [],
   "source": [
    "outputs_of_policies = {}"
   ]
  },
  {
   "cell_type": "markdown",
   "metadata": {},
   "source": [
    "# Random Policy"
   ]
  },
  {
   "cell_type": "code",
   "execution_count": 77,
   "metadata": {},
   "outputs": [],
   "source": [
    "policy = Random(\n",
    "    n_actions=env.n_actions,\n",
    "    len_list=env.len_list,\n",
    "    random_state=1234,\n",
    "    batch_size=1,\n",
    ")"
   ]
  },
  {
   "cell_type": "code",
   "execution_count": 78,
   "metadata": {},
   "outputs": [
    {
     "data": {
      "text/plain": [
       "array([ 3, 13,  2, 16, 14])"
      ]
     },
     "execution_count": 78,
     "metadata": {},
     "output_type": "execute_result"
    }
   ],
   "source": [
    "observation, info = env.reset(seed=1234)\n",
    "action = policy.select_action()\n",
    "action"
   ]
  },
  {
   "cell_type": "code",
   "execution_count": 79,
   "metadata": {},
   "outputs": [],
   "source": [
    "reporting = []\n",
    "\n",
    "while True:\n",
    "    _, reward, terminated, truncated, info = env.step(action=action)\n",
    "    reporting.append(dict(\n",
    "        action=action,\n",
    "        reward=reward,\n",
    "        prob_of_click=info[\"prob_of_click\"],        \n",
    "    ))\n",
    "\n",
    "    policy.cascade_params_update(\n",
    "        action=action,\n",
    "        reward_position=info[\"position_of_click\"]\n",
    "    )\n",
    "\n",
    "    if truncated:\n",
    "        break    \n",
    "\n",
    "    action = policy.select_action()"
   ]
  },
  {
   "cell_type": "code",
   "execution_count": 80,
   "metadata": {},
   "outputs": [],
   "source": [
    "reporting_df = harmonise_reporting(\n",
    "    reporting=reporting,\n",
    "    env=env,\n",
    "    policy_batch_check=500,\n",
    ")"
   ]
  },
  {
   "cell_type": "code",
   "execution_count": 81,
   "metadata": {},
   "outputs": [],
   "source": [
    "outputs_of_policies['random'] = reporting_df.assign(policy='random')"
   ]
  },
  {
   "cell_type": "code",
   "execution_count": 82,
   "metadata": {},
   "outputs": [
    {
     "data": {
      "text/html": [
       "<div>\n",
       "<style scoped>\n",
       "    .dataframe tbody tr th:only-of-type {\n",
       "        vertical-align: middle;\n",
       "    }\n",
       "\n",
       "    .dataframe tbody tr th {\n",
       "        vertical-align: top;\n",
       "    }\n",
       "\n",
       "    .dataframe thead th {\n",
       "        text-align: right;\n",
       "    }\n",
       "</style>\n",
       "<table border=\"1\" class=\"dataframe\">\n",
       "  <thead>\n",
       "    <tr style=\"text-align: right;\">\n",
       "      <th></th>\n",
       "      <th>time_idx</th>\n",
       "      <th>action</th>\n",
       "      <th>variable</th>\n",
       "      <th>value</th>\n",
       "    </tr>\n",
       "  </thead>\n",
       "  <tbody>\n",
       "    <tr>\n",
       "      <th>0</th>\n",
       "      <td>0</td>\n",
       "      <td>[3, 13, 2, 16, 14]</td>\n",
       "      <td>prob_of_click</td>\n",
       "      <td>0.028834</td>\n",
       "    </tr>\n",
       "    <tr>\n",
       "      <th>1</th>\n",
       "      <td>1</td>\n",
       "      <td>[8, 19, 13, 1, 4]</td>\n",
       "      <td>prob_of_click</td>\n",
       "      <td>0.024114</td>\n",
       "    </tr>\n",
       "    <tr>\n",
       "      <th>2</th>\n",
       "      <td>2</td>\n",
       "      <td>[2, 3, 17, 6, 16]</td>\n",
       "      <td>prob_of_click</td>\n",
       "      <td>0.034702</td>\n",
       "    </tr>\n",
       "    <tr>\n",
       "      <th>3</th>\n",
       "      <td>3</td>\n",
       "      <td>[7, 0, 18, 11, 4]</td>\n",
       "      <td>prob_of_click</td>\n",
       "      <td>0.040325</td>\n",
       "    </tr>\n",
       "    <tr>\n",
       "      <th>4</th>\n",
       "      <td>4</td>\n",
       "      <td>[8, 3, 5, 0, 6]</td>\n",
       "      <td>prob_of_click</td>\n",
       "      <td>0.034135</td>\n",
       "    </tr>\n",
       "  </tbody>\n",
       "</table>\n",
       "</div>"
      ],
      "text/plain": [
       "   time_idx              action       variable     value\n",
       "0         0  [3, 13, 2, 16, 14]  prob_of_click  0.028834\n",
       "1         1   [8, 19, 13, 1, 4]  prob_of_click  0.024114\n",
       "2         2   [2, 3, 17, 6, 16]  prob_of_click  0.034702\n",
       "3         3   [7, 0, 18, 11, 4]  prob_of_click  0.040325\n",
       "4         4     [8, 3, 5, 0, 6]  prob_of_click  0.034135"
      ]
     },
     "execution_count": 82,
     "metadata": {},
     "output_type": "execute_result"
    }
   ],
   "source": [
    "reporting_ff_df = reporting_df.melt(\n",
    "    id_vars=['time_idx', 'action'],\n",
    "    value_vars=['prob_of_click', 'optimal_prob_of_click']\n",
    ")\n",
    "\n",
    "reporting_ff_df.head()"
   ]
  },
  {
   "cell_type": "code",
   "execution_count": 83,
   "metadata": {},
   "outputs": [],
   "source": [
    "chart = alt.Chart(reporting_ff_df).mark_line().encode(\n",
    "    y=alt.Y('value'),\n",
    "    x=alt.X('time_idx'),\n",
    "    color='variable'\n",
    ").properties(width=600)\n",
    "\n",
    "vf.save_png(\n",
    "    chart, \n",
    "    \"random_policy__prob_of_click.png\",\n",
    ")\n"
   ]
  },
  {
   "cell_type": "code",
   "execution_count": 84,
   "metadata": {},
   "outputs": [
    {
     "data": {
      "text/html": [
       "\n",
       "<style>\n",
       "  #altair-viz-5d578b11380d451e90489b3e53bcf142.vega-embed {\n",
       "    width: 100%;\n",
       "    display: flex;\n",
       "  }\n",
       "\n",
       "  #altair-viz-5d578b11380d451e90489b3e53bcf142.vega-embed details,\n",
       "  #altair-viz-5d578b11380d451e90489b3e53bcf142.vega-embed details summary {\n",
       "    position: relative;\n",
       "  }\n",
       "</style>\n",
       "<div id=\"altair-viz-5d578b11380d451e90489b3e53bcf142\"></div>\n",
       "<script type=\"text/javascript\">\n",
       "  var VEGA_DEBUG = (typeof VEGA_DEBUG == \"undefined\") ? {} : VEGA_DEBUG;\n",
       "  (function(spec, embedOpt){\n",
       "    let outputDiv = document.currentScript.previousElementSibling;\n",
       "    if (outputDiv.id !== \"altair-viz-5d578b11380d451e90489b3e53bcf142\") {\n",
       "      outputDiv = document.getElementById(\"altair-viz-5d578b11380d451e90489b3e53bcf142\");\n",
       "    }\n",
       "    const paths = {\n",
       "      \"vega\": \"https://cdn.jsdelivr.net/npm/vega@5?noext\",\n",
       "      \"vega-lib\": \"https://cdn.jsdelivr.net/npm/vega-lib?noext\",\n",
       "      \"vega-lite\": \"https://cdn.jsdelivr.net/npm/vega-lite@5.20.1?noext\",\n",
       "      \"vega-embed\": \"https://cdn.jsdelivr.net/npm/vega-embed@6?noext\",\n",
       "    };\n",
       "\n",
       "    function maybeLoadScript(lib, version) {\n",
       "      var key = `${lib.replace(\"-\", \"\")}_version`;\n",
       "      return (VEGA_DEBUG[key] == version) ?\n",
       "        Promise.resolve(paths[lib]) :\n",
       "        new Promise(function(resolve, reject) {\n",
       "          var s = document.createElement('script');\n",
       "          document.getElementsByTagName(\"head\")[0].appendChild(s);\n",
       "          s.async = true;\n",
       "          s.onload = () => {\n",
       "            VEGA_DEBUG[key] = version;\n",
       "            return resolve(paths[lib]);\n",
       "          };\n",
       "          s.onerror = () => reject(`Error loading script: ${paths[lib]}`);\n",
       "          s.src = paths[lib];\n",
       "        });\n",
       "    }\n",
       "\n",
       "    function showError(err) {\n",
       "      outputDiv.innerHTML = `<div class=\"error\" style=\"color:red;\">${err}</div>`;\n",
       "      throw err;\n",
       "    }\n",
       "\n",
       "    function displayChart(vegaEmbed) {\n",
       "      vegaEmbed(outputDiv, spec, embedOpt)\n",
       "        .catch(err => showError(`Javascript Error: ${err.message}<br>This usually means there's a typo in your chart specification. See the javascript console for the full traceback.`));\n",
       "    }\n",
       "\n",
       "    if(typeof define === \"function\" && define.amd) {\n",
       "      requirejs.config({paths});\n",
       "      require([\"vega-embed\"], displayChart, err => showError(`Error loading script: ${err.message}`));\n",
       "    } else {\n",
       "      maybeLoadScript(\"vega\", \"5\")\n",
       "        .then(() => maybeLoadScript(\"vega-lite\", \"5.20.1\"))\n",
       "        .then(() => maybeLoadScript(\"vega-embed\", \"6\"))\n",
       "        .catch(showError)\n",
       "        .then(() => displayChart(vegaEmbed));\n",
       "    }\n",
       "  })({\"config\": {\"view\": {\"continuousWidth\": 300, \"continuousHeight\": 300}}, \"data\": {\"url\": \"altair-data-f88ecbc66abd2ae334c23dc8853cd690.json\", \"format\": {\"type\": \"json\"}}, \"mark\": {\"type\": \"line\"}, \"encoding\": {\"color\": {\"field\": \"variable\", \"type\": \"nominal\"}, \"x\": {\"field\": \"time_idx\", \"type\": \"quantitative\"}, \"y\": {\"field\": \"value\", \"type\": \"quantitative\"}}, \"width\": 600, \"$schema\": \"https://vega.github.io/schema/vega-lite/v5.20.1.json\"}, {\"mode\": \"vega-lite\"});\n",
       "</script>"
      ],
      "text/plain": [
       "alt.Chart(...)"
      ]
     },
     "execution_count": 84,
     "metadata": {},
     "output_type": "execute_result"
    }
   ],
   "source": [
    "chart"
   ]
  },
  {
   "cell_type": "code",
   "execution_count": 85,
   "metadata": {},
   "outputs": [],
   "source": [
    "chart = alt.Chart(reporting_df).mark_line().encode(\n",
    "    x='time_idx',\n",
    "    y='avg_reward',\n",
    ").properties(\n",
    "    width=700, \n",
    ")\n",
    "\n",
    "vf.save_png(\n",
    "    chart, \n",
    "    \"random_policy__avg_reward.png\",\n",
    ")\n"
   ]
  },
  {
   "cell_type": "code",
   "execution_count": 86,
   "metadata": {},
   "outputs": [
    {
     "data": {
      "text/html": [
       "\n",
       "<style>\n",
       "  #altair-viz-26a8f67bf8fa40248fcf3d43a73f5cd3.vega-embed {\n",
       "    width: 100%;\n",
       "    display: flex;\n",
       "  }\n",
       "\n",
       "  #altair-viz-26a8f67bf8fa40248fcf3d43a73f5cd3.vega-embed details,\n",
       "  #altair-viz-26a8f67bf8fa40248fcf3d43a73f5cd3.vega-embed details summary {\n",
       "    position: relative;\n",
       "  }\n",
       "</style>\n",
       "<div id=\"altair-viz-26a8f67bf8fa40248fcf3d43a73f5cd3\"></div>\n",
       "<script type=\"text/javascript\">\n",
       "  var VEGA_DEBUG = (typeof VEGA_DEBUG == \"undefined\") ? {} : VEGA_DEBUG;\n",
       "  (function(spec, embedOpt){\n",
       "    let outputDiv = document.currentScript.previousElementSibling;\n",
       "    if (outputDiv.id !== \"altair-viz-26a8f67bf8fa40248fcf3d43a73f5cd3\") {\n",
       "      outputDiv = document.getElementById(\"altair-viz-26a8f67bf8fa40248fcf3d43a73f5cd3\");\n",
       "    }\n",
       "    const paths = {\n",
       "      \"vega\": \"https://cdn.jsdelivr.net/npm/vega@5?noext\",\n",
       "      \"vega-lib\": \"https://cdn.jsdelivr.net/npm/vega-lib?noext\",\n",
       "      \"vega-lite\": \"https://cdn.jsdelivr.net/npm/vega-lite@5.20.1?noext\",\n",
       "      \"vega-embed\": \"https://cdn.jsdelivr.net/npm/vega-embed@6?noext\",\n",
       "    };\n",
       "\n",
       "    function maybeLoadScript(lib, version) {\n",
       "      var key = `${lib.replace(\"-\", \"\")}_version`;\n",
       "      return (VEGA_DEBUG[key] == version) ?\n",
       "        Promise.resolve(paths[lib]) :\n",
       "        new Promise(function(resolve, reject) {\n",
       "          var s = document.createElement('script');\n",
       "          document.getElementsByTagName(\"head\")[0].appendChild(s);\n",
       "          s.async = true;\n",
       "          s.onload = () => {\n",
       "            VEGA_DEBUG[key] = version;\n",
       "            return resolve(paths[lib]);\n",
       "          };\n",
       "          s.onerror = () => reject(`Error loading script: ${paths[lib]}`);\n",
       "          s.src = paths[lib];\n",
       "        });\n",
       "    }\n",
       "\n",
       "    function showError(err) {\n",
       "      outputDiv.innerHTML = `<div class=\"error\" style=\"color:red;\">${err}</div>`;\n",
       "      throw err;\n",
       "    }\n",
       "\n",
       "    function displayChart(vegaEmbed) {\n",
       "      vegaEmbed(outputDiv, spec, embedOpt)\n",
       "        .catch(err => showError(`Javascript Error: ${err.message}<br>This usually means there's a typo in your chart specification. See the javascript console for the full traceback.`));\n",
       "    }\n",
       "\n",
       "    if(typeof define === \"function\" && define.amd) {\n",
       "      requirejs.config({paths});\n",
       "      require([\"vega-embed\"], displayChart, err => showError(`Error loading script: ${err.message}`));\n",
       "    } else {\n",
       "      maybeLoadScript(\"vega\", \"5\")\n",
       "        .then(() => maybeLoadScript(\"vega-lite\", \"5.20.1\"))\n",
       "        .then(() => maybeLoadScript(\"vega-embed\", \"6\"))\n",
       "        .catch(showError)\n",
       "        .then(() => displayChart(vegaEmbed));\n",
       "    }\n",
       "  })({\"config\": {\"view\": {\"continuousWidth\": 300, \"continuousHeight\": 300}}, \"data\": {\"url\": \"altair-data-4263850ba2a62c892533adcbd69c6052.json\", \"format\": {\"type\": \"json\"}}, \"mark\": {\"type\": \"line\"}, \"encoding\": {\"x\": {\"field\": \"time_idx\", \"type\": \"quantitative\"}, \"y\": {\"field\": \"avg_reward\", \"type\": \"quantitative\"}}, \"width\": 700, \"$schema\": \"https://vega.github.io/schema/vega-lite/v5.20.1.json\"}, {\"mode\": \"vega-lite\"});\n",
       "</script>"
      ],
      "text/plain": [
       "alt.Chart(...)"
      ]
     },
     "execution_count": 86,
     "metadata": {},
     "output_type": "execute_result"
    }
   ],
   "source": [
    "chart"
   ]
  },
  {
   "cell_type": "code",
   "execution_count": 87,
   "metadata": {},
   "outputs": [],
   "source": [
    "chart = plot_actual_vs_predicted(policy=policy, env=env)\n",
    "vf.save_png(\n",
    "    chart, \n",
    "    \"random_policy__action_probs_actual_vs_predicted.png\",\n",
    ")"
   ]
  },
  {
   "cell_type": "code",
   "execution_count": 88,
   "metadata": {},
   "outputs": [
    {
     "data": {
      "text/html": [
       "\n",
       "<style>\n",
       "  #altair-viz-fd1a6e655bfd429e842119b5f9f4fc6e.vega-embed {\n",
       "    width: 100%;\n",
       "    display: flex;\n",
       "  }\n",
       "\n",
       "  #altair-viz-fd1a6e655bfd429e842119b5f9f4fc6e.vega-embed details,\n",
       "  #altair-viz-fd1a6e655bfd429e842119b5f9f4fc6e.vega-embed details summary {\n",
       "    position: relative;\n",
       "  }\n",
       "</style>\n",
       "<div id=\"altair-viz-fd1a6e655bfd429e842119b5f9f4fc6e\"></div>\n",
       "<script type=\"text/javascript\">\n",
       "  var VEGA_DEBUG = (typeof VEGA_DEBUG == \"undefined\") ? {} : VEGA_DEBUG;\n",
       "  (function(spec, embedOpt){\n",
       "    let outputDiv = document.currentScript.previousElementSibling;\n",
       "    if (outputDiv.id !== \"altair-viz-fd1a6e655bfd429e842119b5f9f4fc6e\") {\n",
       "      outputDiv = document.getElementById(\"altair-viz-fd1a6e655bfd429e842119b5f9f4fc6e\");\n",
       "    }\n",
       "    const paths = {\n",
       "      \"vega\": \"https://cdn.jsdelivr.net/npm/vega@5?noext\",\n",
       "      \"vega-lib\": \"https://cdn.jsdelivr.net/npm/vega-lib?noext\",\n",
       "      \"vega-lite\": \"https://cdn.jsdelivr.net/npm/vega-lite@5.20.1?noext\",\n",
       "      \"vega-embed\": \"https://cdn.jsdelivr.net/npm/vega-embed@6?noext\",\n",
       "    };\n",
       "\n",
       "    function maybeLoadScript(lib, version) {\n",
       "      var key = `${lib.replace(\"-\", \"\")}_version`;\n",
       "      return (VEGA_DEBUG[key] == version) ?\n",
       "        Promise.resolve(paths[lib]) :\n",
       "        new Promise(function(resolve, reject) {\n",
       "          var s = document.createElement('script');\n",
       "          document.getElementsByTagName(\"head\")[0].appendChild(s);\n",
       "          s.async = true;\n",
       "          s.onload = () => {\n",
       "            VEGA_DEBUG[key] = version;\n",
       "            return resolve(paths[lib]);\n",
       "          };\n",
       "          s.onerror = () => reject(`Error loading script: ${paths[lib]}`);\n",
       "          s.src = paths[lib];\n",
       "        });\n",
       "    }\n",
       "\n",
       "    function showError(err) {\n",
       "      outputDiv.innerHTML = `<div class=\"error\" style=\"color:red;\">${err}</div>`;\n",
       "      throw err;\n",
       "    }\n",
       "\n",
       "    function displayChart(vegaEmbed) {\n",
       "      vegaEmbed(outputDiv, spec, embedOpt)\n",
       "        .catch(err => showError(`Javascript Error: ${err.message}<br>This usually means there's a typo in your chart specification. See the javascript console for the full traceback.`));\n",
       "    }\n",
       "\n",
       "    if(typeof define === \"function\" && define.amd) {\n",
       "      requirejs.config({paths});\n",
       "      require([\"vega-embed\"], displayChart, err => showError(`Error loading script: ${err.message}`));\n",
       "    } else {\n",
       "      maybeLoadScript(\"vega\", \"5\")\n",
       "        .then(() => maybeLoadScript(\"vega-lite\", \"5.20.1\"))\n",
       "        .then(() => maybeLoadScript(\"vega-embed\", \"6\"))\n",
       "        .catch(showError)\n",
       "        .then(() => displayChart(vegaEmbed));\n",
       "    }\n",
       "  })({\"config\": {\"view\": {\"continuousWidth\": 300, \"continuousHeight\": 300}}, \"data\": {\"url\": \"altair-data-f2925837c595728281cf37bb2019c462.json\", \"format\": {\"type\": \"json\"}}, \"mark\": {\"type\": \"point\"}, \"encoding\": {\"color\": {\"field\": \"variable\", \"type\": \"nominal\"}, \"x\": {\"field\": \"value\", \"type\": \"quantitative\"}, \"y\": {\"field\": \"arm\", \"sort\": {\"field\": \"act_sort\", \"order\": \"descending\"}, \"type\": \"ordinal\"}}, \"$schema\": \"https://vega.github.io/schema/vega-lite/v5.20.1.json\"}, {\"mode\": \"vega-lite\"});\n",
       "</script>"
      ],
      "text/plain": [
       "alt.Chart(...)"
      ]
     },
     "execution_count": 88,
     "metadata": {},
     "output_type": "execute_result"
    }
   ],
   "source": [
    "chart"
   ]
  },
  {
   "cell_type": "code",
   "execution_count": 89,
   "metadata": {},
   "outputs": [
    {
     "data": {
      "text/html": [
       "\n",
       "<style>\n",
       "  #altair-viz-213bb0eaf0094894aa52c4a31306a32f.vega-embed {\n",
       "    width: 100%;\n",
       "    display: flex;\n",
       "  }\n",
       "\n",
       "  #altair-viz-213bb0eaf0094894aa52c4a31306a32f.vega-embed details,\n",
       "  #altair-viz-213bb0eaf0094894aa52c4a31306a32f.vega-embed details summary {\n",
       "    position: relative;\n",
       "  }\n",
       "</style>\n",
       "<div id=\"altair-viz-213bb0eaf0094894aa52c4a31306a32f\"></div>\n",
       "<script type=\"text/javascript\">\n",
       "  var VEGA_DEBUG = (typeof VEGA_DEBUG == \"undefined\") ? {} : VEGA_DEBUG;\n",
       "  (function(spec, embedOpt){\n",
       "    let outputDiv = document.currentScript.previousElementSibling;\n",
       "    if (outputDiv.id !== \"altair-viz-213bb0eaf0094894aa52c4a31306a32f\") {\n",
       "      outputDiv = document.getElementById(\"altair-viz-213bb0eaf0094894aa52c4a31306a32f\");\n",
       "    }\n",
       "    const paths = {\n",
       "      \"vega\": \"https://cdn.jsdelivr.net/npm/vega@5?noext\",\n",
       "      \"vega-lib\": \"https://cdn.jsdelivr.net/npm/vega-lib?noext\",\n",
       "      \"vega-lite\": \"https://cdn.jsdelivr.net/npm/vega-lite@5.20.1?noext\",\n",
       "      \"vega-embed\": \"https://cdn.jsdelivr.net/npm/vega-embed@6?noext\",\n",
       "    };\n",
       "\n",
       "    function maybeLoadScript(lib, version) {\n",
       "      var key = `${lib.replace(\"-\", \"\")}_version`;\n",
       "      return (VEGA_DEBUG[key] == version) ?\n",
       "        Promise.resolve(paths[lib]) :\n",
       "        new Promise(function(resolve, reject) {\n",
       "          var s = document.createElement('script');\n",
       "          document.getElementsByTagName(\"head\")[0].appendChild(s);\n",
       "          s.async = true;\n",
       "          s.onload = () => {\n",
       "            VEGA_DEBUG[key] = version;\n",
       "            return resolve(paths[lib]);\n",
       "          };\n",
       "          s.onerror = () => reject(`Error loading script: ${paths[lib]}`);\n",
       "          s.src = paths[lib];\n",
       "        });\n",
       "    }\n",
       "\n",
       "    function showError(err) {\n",
       "      outputDiv.innerHTML = `<div class=\"error\" style=\"color:red;\">${err}</div>`;\n",
       "      throw err;\n",
       "    }\n",
       "\n",
       "    function displayChart(vegaEmbed) {\n",
       "      vegaEmbed(outputDiv, spec, embedOpt)\n",
       "        .catch(err => showError(`Javascript Error: ${err.message}<br>This usually means there's a typo in your chart specification. See the javascript console for the full traceback.`));\n",
       "    }\n",
       "\n",
       "    if(typeof define === \"function\" && define.amd) {\n",
       "      requirejs.config({paths});\n",
       "      require([\"vega-embed\"], displayChart, err => showError(`Error loading script: ${err.message}`));\n",
       "    } else {\n",
       "      maybeLoadScript(\"vega\", \"5\")\n",
       "        .then(() => maybeLoadScript(\"vega-lite\", \"5.20.1\"))\n",
       "        .then(() => maybeLoadScript(\"vega-embed\", \"6\"))\n",
       "        .catch(showError)\n",
       "        .then(() => displayChart(vegaEmbed));\n",
       "    }\n",
       "  })({\"config\": {\"view\": {\"continuousWidth\": 300, \"continuousHeight\": 300}}, \"data\": {\"url\": \"altair-data-0c62fd343e7cb9a0a99ed67ba388134d.json\", \"format\": {\"type\": \"json\"}}, \"mark\": {\"type\": \"line\"}, \"encoding\": {\"x\": {\"field\": \"policy_batch_check\", \"type\": \"quantitative\"}, \"y\": {\"field\": \"prob_of_optimal_action\", \"type\": \"quantitative\"}}, \"width\": 700, \"$schema\": \"https://vega.github.io/schema/vega-lite/v5.20.1.json\"}, {\"mode\": \"vega-lite\"});\n",
       "</script>"
      ],
      "text/plain": [
       "alt.Chart(...)"
      ]
     },
     "execution_count": 89,
     "metadata": {},
     "output_type": "execute_result"
    }
   ],
   "source": [
    "policy_prob_df = reporting_df.assign(n_trials=1).groupby(['policy_batch_check'], as_index=False)[['n_trials','optimal_action_id']].sum().assign(\n",
    "    prob_of_optimal_action=lambda x: x['optimal_action_id'] /  x['n_trials']\n",
    ")\n",
    "\n",
    "chart = alt.Chart(policy_prob_df).mark_line().encode(\n",
    "    x='policy_batch_check', y='prob_of_optimal_action'\n",
    ").properties(\n",
    "    width=700, \n",
    ")\n",
    "\n",
    "\n",
    "chart"
   ]
  },
  {
   "cell_type": "code",
   "execution_count": null,
   "metadata": {},
   "outputs": [],
   "source": []
  },
  {
   "cell_type": "markdown",
   "metadata": {},
   "source": [
    "# Thompson Sampling Policy"
   ]
  },
  {
   "cell_type": "markdown",
   "metadata": {},
   "source": [
    "## Uninformed Prior"
   ]
  },
  {
   "cell_type": "code",
   "execution_count": 57,
   "metadata": {},
   "outputs": [],
   "source": [
    "policy = BernoulliTS(\n",
    "    n_actions=env.n_actions,\n",
    "    len_list=env.len_list,\n",
    "    random_state=1234,\n",
    "    batch_size=1,\n",
    ")"
   ]
  },
  {
   "cell_type": "code",
   "execution_count": 58,
   "metadata": {},
   "outputs": [
    {
     "data": {
      "text/plain": [
       "BernoulliTS(n_actions=20, len_list=5, batch_size=1, random_state=1234, alpha=array([1., 1., 1., 1., 1., 1., 1., 1., 1., 1., 1., 1., 1., 1., 1., 1., 1.,\n",
       "       1., 1., 1.]), beta=array([1., 1., 1., 1., 1., 1., 1., 1., 1., 1., 1., 1., 1., 1., 1., 1., 1.,\n",
       "       1., 1., 1.]))"
      ]
     },
     "execution_count": 58,
     "metadata": {},
     "output_type": "execute_result"
    }
   ],
   "source": [
    "policy"
   ]
  },
  {
   "cell_type": "code",
   "execution_count": 67,
   "metadata": {},
   "outputs": [
    {
     "data": {
      "text/plain": [
       "array([ 7,  9, 10,  1, 16])"
      ]
     },
     "execution_count": 67,
     "metadata": {},
     "output_type": "execute_result"
    }
   ],
   "source": [
    "observation, info = env.reset(seed=34325)\n",
    "action = policy.select_action()\n",
    "action"
   ]
  },
  {
   "cell_type": "code",
   "execution_count": 68,
   "metadata": {},
   "outputs": [],
   "source": [
    "reporting = []\n",
    "\n",
    "while True:\n",
    "    _, reward, terminated, truncated, info = env.step(action=action)\n",
    "    reporting.append(dict(\n",
    "        action=action,\n",
    "        reward=reward,\n",
    "        prob_of_click=info[\"prob_of_click\"],        \n",
    "    ))\n",
    "\n",
    "    policy.cascade_params_update(\n",
    "        action=action,\n",
    "        reward_position=info[\"position_of_click\"]\n",
    "    )\n",
    "\n",
    "    if truncated:\n",
    "        break    \n",
    "    \n",
    "    action = policy.select_action()"
   ]
  },
  {
   "cell_type": "code",
   "execution_count": 69,
   "metadata": {},
   "outputs": [],
   "source": [
    "reporting_df = harmonise_reporting(reporting=reporting, env=env, policy_batch_check=500)"
   ]
  },
  {
   "cell_type": "code",
   "execution_count": 70,
   "metadata": {},
   "outputs": [
    {
     "data": {
      "text/html": [
       "<div>\n",
       "<style scoped>\n",
       "    .dataframe tbody tr th:only-of-type {\n",
       "        vertical-align: middle;\n",
       "    }\n",
       "\n",
       "    .dataframe tbody tr th {\n",
       "        vertical-align: top;\n",
       "    }\n",
       "\n",
       "    .dataframe thead th {\n",
       "        text-align: right;\n",
       "    }\n",
       "</style>\n",
       "<table border=\"1\" class=\"dataframe\">\n",
       "  <thead>\n",
       "    <tr style=\"text-align: right;\">\n",
       "      <th></th>\n",
       "      <th>time_idx</th>\n",
       "      <th>action</th>\n",
       "      <th>variable</th>\n",
       "      <th>value</th>\n",
       "    </tr>\n",
       "  </thead>\n",
       "  <tbody>\n",
       "    <tr>\n",
       "      <th>0</th>\n",
       "      <td>0</td>\n",
       "      <td>[7, 9, 10, 1, 16]</td>\n",
       "      <td>prob_of_click</td>\n",
       "      <td>0.080067</td>\n",
       "    </tr>\n",
       "    <tr>\n",
       "      <th>1</th>\n",
       "      <td>1</td>\n",
       "      <td>[7, 9, 10, 1, 3]</td>\n",
       "      <td>prob_of_click</td>\n",
       "      <td>0.080305</td>\n",
       "    </tr>\n",
       "    <tr>\n",
       "      <th>2</th>\n",
       "      <td>2</td>\n",
       "      <td>[7, 9, 10, 1, 3]</td>\n",
       "      <td>prob_of_click</td>\n",
       "      <td>0.080305</td>\n",
       "    </tr>\n",
       "    <tr>\n",
       "      <th>3</th>\n",
       "      <td>3</td>\n",
       "      <td>[7, 9, 10, 1, 16]</td>\n",
       "      <td>prob_of_click</td>\n",
       "      <td>0.080067</td>\n",
       "    </tr>\n",
       "    <tr>\n",
       "      <th>4</th>\n",
       "      <td>4</td>\n",
       "      <td>[7, 9, 10, 1, 16]</td>\n",
       "      <td>prob_of_click</td>\n",
       "      <td>0.080067</td>\n",
       "    </tr>\n",
       "  </tbody>\n",
       "</table>\n",
       "</div>"
      ],
      "text/plain": [
       "   time_idx             action       variable     value\n",
       "0         0  [7, 9, 10, 1, 16]  prob_of_click  0.080067\n",
       "1         1   [7, 9, 10, 1, 3]  prob_of_click  0.080305\n",
       "2         2   [7, 9, 10, 1, 3]  prob_of_click  0.080305\n",
       "3         3  [7, 9, 10, 1, 16]  prob_of_click  0.080067\n",
       "4         4  [7, 9, 10, 1, 16]  prob_of_click  0.080067"
      ]
     },
     "execution_count": 70,
     "metadata": {},
     "output_type": "execute_result"
    }
   ],
   "source": [
    "reporting_ff_df = reporting_df.melt(\n",
    "    id_vars=['time_idx', 'action'],\n",
    "    value_vars=['prob_of_click', 'optimal_prob_of_click']\n",
    ")\n",
    "\n",
    "reporting_ff_df.head()"
   ]
  },
  {
   "cell_type": "code",
   "execution_count": 71,
   "metadata": {},
   "outputs": [],
   "source": [
    "chart = alt.Chart(reporting_ff_df).mark_line().encode(\n",
    "    y=alt.Y('value'),\n",
    "    x=alt.X('time_idx'),\n",
    "    color='variable'\n",
    ").properties(width=600)\n",
    "\n",
    "vf.save_png(\n",
    "    chart, \n",
    "    \"ts_policy_uninformed_prior__prob_of_click.png\",\n",
    ")"
   ]
  },
  {
   "cell_type": "code",
   "execution_count": 72,
   "metadata": {},
   "outputs": [
    {
     "data": {
      "text/html": [
       "\n",
       "<style>\n",
       "  #altair-viz-0a7be8efdcf340e9b4c9f35aa1aa6d3d.vega-embed {\n",
       "    width: 100%;\n",
       "    display: flex;\n",
       "  }\n",
       "\n",
       "  #altair-viz-0a7be8efdcf340e9b4c9f35aa1aa6d3d.vega-embed details,\n",
       "  #altair-viz-0a7be8efdcf340e9b4c9f35aa1aa6d3d.vega-embed details summary {\n",
       "    position: relative;\n",
       "  }\n",
       "</style>\n",
       "<div id=\"altair-viz-0a7be8efdcf340e9b4c9f35aa1aa6d3d\"></div>\n",
       "<script type=\"text/javascript\">\n",
       "  var VEGA_DEBUG = (typeof VEGA_DEBUG == \"undefined\") ? {} : VEGA_DEBUG;\n",
       "  (function(spec, embedOpt){\n",
       "    let outputDiv = document.currentScript.previousElementSibling;\n",
       "    if (outputDiv.id !== \"altair-viz-0a7be8efdcf340e9b4c9f35aa1aa6d3d\") {\n",
       "      outputDiv = document.getElementById(\"altair-viz-0a7be8efdcf340e9b4c9f35aa1aa6d3d\");\n",
       "    }\n",
       "    const paths = {\n",
       "      \"vega\": \"https://cdn.jsdelivr.net/npm/vega@5?noext\",\n",
       "      \"vega-lib\": \"https://cdn.jsdelivr.net/npm/vega-lib?noext\",\n",
       "      \"vega-lite\": \"https://cdn.jsdelivr.net/npm/vega-lite@5.20.1?noext\",\n",
       "      \"vega-embed\": \"https://cdn.jsdelivr.net/npm/vega-embed@6?noext\",\n",
       "    };\n",
       "\n",
       "    function maybeLoadScript(lib, version) {\n",
       "      var key = `${lib.replace(\"-\", \"\")}_version`;\n",
       "      return (VEGA_DEBUG[key] == version) ?\n",
       "        Promise.resolve(paths[lib]) :\n",
       "        new Promise(function(resolve, reject) {\n",
       "          var s = document.createElement('script');\n",
       "          document.getElementsByTagName(\"head\")[0].appendChild(s);\n",
       "          s.async = true;\n",
       "          s.onload = () => {\n",
       "            VEGA_DEBUG[key] = version;\n",
       "            return resolve(paths[lib]);\n",
       "          };\n",
       "          s.onerror = () => reject(`Error loading script: ${paths[lib]}`);\n",
       "          s.src = paths[lib];\n",
       "        });\n",
       "    }\n",
       "\n",
       "    function showError(err) {\n",
       "      outputDiv.innerHTML = `<div class=\"error\" style=\"color:red;\">${err}</div>`;\n",
       "      throw err;\n",
       "    }\n",
       "\n",
       "    function displayChart(vegaEmbed) {\n",
       "      vegaEmbed(outputDiv, spec, embedOpt)\n",
       "        .catch(err => showError(`Javascript Error: ${err.message}<br>This usually means there's a typo in your chart specification. See the javascript console for the full traceback.`));\n",
       "    }\n",
       "\n",
       "    if(typeof define === \"function\" && define.amd) {\n",
       "      requirejs.config({paths});\n",
       "      require([\"vega-embed\"], displayChart, err => showError(`Error loading script: ${err.message}`));\n",
       "    } else {\n",
       "      maybeLoadScript(\"vega\", \"5\")\n",
       "        .then(() => maybeLoadScript(\"vega-lite\", \"5.20.1\"))\n",
       "        .then(() => maybeLoadScript(\"vega-embed\", \"6\"))\n",
       "        .catch(showError)\n",
       "        .then(() => displayChart(vegaEmbed));\n",
       "    }\n",
       "  })({\"config\": {\"view\": {\"continuousWidth\": 300, \"continuousHeight\": 300}}, \"data\": {\"url\": \"altair-data-cb45b2e61d34d6a44a06535d33518a93.json\", \"format\": {\"type\": \"json\"}}, \"mark\": {\"type\": \"line\"}, \"encoding\": {\"color\": {\"field\": \"variable\", \"type\": \"nominal\"}, \"x\": {\"field\": \"time_idx\", \"type\": \"quantitative\"}, \"y\": {\"field\": \"value\", \"type\": \"quantitative\"}}, \"width\": 600, \"$schema\": \"https://vega.github.io/schema/vega-lite/v5.20.1.json\"}, {\"mode\": \"vega-lite\"});\n",
       "</script>"
      ],
      "text/plain": [
       "alt.Chart(...)"
      ]
     },
     "execution_count": 72,
     "metadata": {},
     "output_type": "execute_result"
    }
   ],
   "source": [
    "chart"
   ]
  },
  {
   "cell_type": "code",
   "execution_count": 73,
   "metadata": {},
   "outputs": [
    {
     "data": {
      "text/html": [
       "\n",
       "<style>\n",
       "  #altair-viz-ef5ee56a434547e895ac6ec44d64136b.vega-embed {\n",
       "    width: 100%;\n",
       "    display: flex;\n",
       "  }\n",
       "\n",
       "  #altair-viz-ef5ee56a434547e895ac6ec44d64136b.vega-embed details,\n",
       "  #altair-viz-ef5ee56a434547e895ac6ec44d64136b.vega-embed details summary {\n",
       "    position: relative;\n",
       "  }\n",
       "</style>\n",
       "<div id=\"altair-viz-ef5ee56a434547e895ac6ec44d64136b\"></div>\n",
       "<script type=\"text/javascript\">\n",
       "  var VEGA_DEBUG = (typeof VEGA_DEBUG == \"undefined\") ? {} : VEGA_DEBUG;\n",
       "  (function(spec, embedOpt){\n",
       "    let outputDiv = document.currentScript.previousElementSibling;\n",
       "    if (outputDiv.id !== \"altair-viz-ef5ee56a434547e895ac6ec44d64136b\") {\n",
       "      outputDiv = document.getElementById(\"altair-viz-ef5ee56a434547e895ac6ec44d64136b\");\n",
       "    }\n",
       "    const paths = {\n",
       "      \"vega\": \"https://cdn.jsdelivr.net/npm/vega@5?noext\",\n",
       "      \"vega-lib\": \"https://cdn.jsdelivr.net/npm/vega-lib?noext\",\n",
       "      \"vega-lite\": \"https://cdn.jsdelivr.net/npm/vega-lite@5.20.1?noext\",\n",
       "      \"vega-embed\": \"https://cdn.jsdelivr.net/npm/vega-embed@6?noext\",\n",
       "    };\n",
       "\n",
       "    function maybeLoadScript(lib, version) {\n",
       "      var key = `${lib.replace(\"-\", \"\")}_version`;\n",
       "      return (VEGA_DEBUG[key] == version) ?\n",
       "        Promise.resolve(paths[lib]) :\n",
       "        new Promise(function(resolve, reject) {\n",
       "          var s = document.createElement('script');\n",
       "          document.getElementsByTagName(\"head\")[0].appendChild(s);\n",
       "          s.async = true;\n",
       "          s.onload = () => {\n",
       "            VEGA_DEBUG[key] = version;\n",
       "            return resolve(paths[lib]);\n",
       "          };\n",
       "          s.onerror = () => reject(`Error loading script: ${paths[lib]}`);\n",
       "          s.src = paths[lib];\n",
       "        });\n",
       "    }\n",
       "\n",
       "    function showError(err) {\n",
       "      outputDiv.innerHTML = `<div class=\"error\" style=\"color:red;\">${err}</div>`;\n",
       "      throw err;\n",
       "    }\n",
       "\n",
       "    function displayChart(vegaEmbed) {\n",
       "      vegaEmbed(outputDiv, spec, embedOpt)\n",
       "        .catch(err => showError(`Javascript Error: ${err.message}<br>This usually means there's a typo in your chart specification. See the javascript console for the full traceback.`));\n",
       "    }\n",
       "\n",
       "    if(typeof define === \"function\" && define.amd) {\n",
       "      requirejs.config({paths});\n",
       "      require([\"vega-embed\"], displayChart, err => showError(`Error loading script: ${err.message}`));\n",
       "    } else {\n",
       "      maybeLoadScript(\"vega\", \"5\")\n",
       "        .then(() => maybeLoadScript(\"vega-lite\", \"5.20.1\"))\n",
       "        .then(() => maybeLoadScript(\"vega-embed\", \"6\"))\n",
       "        .catch(showError)\n",
       "        .then(() => displayChart(vegaEmbed));\n",
       "    }\n",
       "  })({\"config\": {\"view\": {\"continuousWidth\": 300, \"continuousHeight\": 300}}, \"data\": {\"url\": \"altair-data-089da977f51ac7f5f3cd66a959315965.json\", \"format\": {\"type\": \"json\"}}, \"mark\": {\"type\": \"point\"}, \"encoding\": {\"color\": {\"field\": \"variable\", \"type\": \"nominal\"}, \"x\": {\"field\": \"value\", \"type\": \"quantitative\"}, \"y\": {\"field\": \"arm\", \"sort\": {\"field\": \"act_sort\", \"order\": \"descending\"}, \"type\": \"ordinal\"}}, \"$schema\": \"https://vega.github.io/schema/vega-lite/v5.20.1.json\"}, {\"mode\": \"vega-lite\"});\n",
       "</script>"
      ],
      "text/plain": [
       "alt.Chart(...)"
      ]
     },
     "execution_count": 73,
     "metadata": {},
     "output_type": "execute_result"
    }
   ],
   "source": [
    "chart = plot_actual_vs_predicted(\n",
    "    policy=policy,\n",
    "    env=env\n",
    ")\n",
    "\n",
    "chart"
   ]
  },
  {
   "cell_type": "code",
   "execution_count": 74,
   "metadata": {},
   "outputs": [
    {
     "data": {
      "text/html": [
       "\n",
       "<style>\n",
       "  #altair-viz-64abb9eec6aa4513a59716f1430f3644.vega-embed {\n",
       "    width: 100%;\n",
       "    display: flex;\n",
       "  }\n",
       "\n",
       "  #altair-viz-64abb9eec6aa4513a59716f1430f3644.vega-embed details,\n",
       "  #altair-viz-64abb9eec6aa4513a59716f1430f3644.vega-embed details summary {\n",
       "    position: relative;\n",
       "  }\n",
       "</style>\n",
       "<div id=\"altair-viz-64abb9eec6aa4513a59716f1430f3644\"></div>\n",
       "<script type=\"text/javascript\">\n",
       "  var VEGA_DEBUG = (typeof VEGA_DEBUG == \"undefined\") ? {} : VEGA_DEBUG;\n",
       "  (function(spec, embedOpt){\n",
       "    let outputDiv = document.currentScript.previousElementSibling;\n",
       "    if (outputDiv.id !== \"altair-viz-64abb9eec6aa4513a59716f1430f3644\") {\n",
       "      outputDiv = document.getElementById(\"altair-viz-64abb9eec6aa4513a59716f1430f3644\");\n",
       "    }\n",
       "    const paths = {\n",
       "      \"vega\": \"https://cdn.jsdelivr.net/npm/vega@5?noext\",\n",
       "      \"vega-lib\": \"https://cdn.jsdelivr.net/npm/vega-lib?noext\",\n",
       "      \"vega-lite\": \"https://cdn.jsdelivr.net/npm/vega-lite@5.20.1?noext\",\n",
       "      \"vega-embed\": \"https://cdn.jsdelivr.net/npm/vega-embed@6?noext\",\n",
       "    };\n",
       "\n",
       "    function maybeLoadScript(lib, version) {\n",
       "      var key = `${lib.replace(\"-\", \"\")}_version`;\n",
       "      return (VEGA_DEBUG[key] == version) ?\n",
       "        Promise.resolve(paths[lib]) :\n",
       "        new Promise(function(resolve, reject) {\n",
       "          var s = document.createElement('script');\n",
       "          document.getElementsByTagName(\"head\")[0].appendChild(s);\n",
       "          s.async = true;\n",
       "          s.onload = () => {\n",
       "            VEGA_DEBUG[key] = version;\n",
       "            return resolve(paths[lib]);\n",
       "          };\n",
       "          s.onerror = () => reject(`Error loading script: ${paths[lib]}`);\n",
       "          s.src = paths[lib];\n",
       "        });\n",
       "    }\n",
       "\n",
       "    function showError(err) {\n",
       "      outputDiv.innerHTML = `<div class=\"error\" style=\"color:red;\">${err}</div>`;\n",
       "      throw err;\n",
       "    }\n",
       "\n",
       "    function displayChart(vegaEmbed) {\n",
       "      vegaEmbed(outputDiv, spec, embedOpt)\n",
       "        .catch(err => showError(`Javascript Error: ${err.message}<br>This usually means there's a typo in your chart specification. See the javascript console for the full traceback.`));\n",
       "    }\n",
       "\n",
       "    if(typeof define === \"function\" && define.amd) {\n",
       "      requirejs.config({paths});\n",
       "      require([\"vega-embed\"], displayChart, err => showError(`Error loading script: ${err.message}`));\n",
       "    } else {\n",
       "      maybeLoadScript(\"vega\", \"5\")\n",
       "        .then(() => maybeLoadScript(\"vega-lite\", \"5.20.1\"))\n",
       "        .then(() => maybeLoadScript(\"vega-embed\", \"6\"))\n",
       "        .catch(showError)\n",
       "        .then(() => displayChart(vegaEmbed));\n",
       "    }\n",
       "  })({\"config\": {\"view\": {\"continuousWidth\": 300, \"continuousHeight\": 300}}, \"data\": {\"url\": \"altair-data-e8b6d2eca3a0660ab6052e77c960a591.json\", \"format\": {\"type\": \"json\"}}, \"mark\": {\"type\": \"line\"}, \"encoding\": {\"x\": {\"field\": \"policy_batch_check\", \"type\": \"quantitative\"}, \"y\": {\"field\": \"prob_of_optimal_action\", \"type\": \"quantitative\"}}, \"width\": 700, \"$schema\": \"https://vega.github.io/schema/vega-lite/v5.20.1.json\"}, {\"mode\": \"vega-lite\"});\n",
       "</script>"
      ],
      "text/plain": [
       "alt.Chart(...)"
      ]
     },
     "execution_count": 74,
     "metadata": {},
     "output_type": "execute_result"
    }
   ],
   "source": [
    "policy_prob_df = reporting_df.assign(n_trials=1).groupby(['policy_batch_check'], as_index=False)[['n_trials','optimal_action_id']].sum().assign(\n",
    "    prob_of_optimal_action=lambda x: x['optimal_action_id'] /  x['n_trials']\n",
    ")\n",
    "\n",
    "chart = alt.Chart(policy_prob_df).mark_line().encode(\n",
    "    x='policy_batch_check', y='prob_of_optimal_action'\n",
    ").properties(\n",
    "    width=700, \n",
    ")\n",
    "\n",
    "\n",
    "chart"
   ]
  },
  {
   "cell_type": "code",
   "execution_count": null,
   "metadata": {},
   "outputs": [],
   "source": []
  },
  {
   "cell_type": "code",
   "execution_count": null,
   "metadata": {},
   "outputs": [],
   "source": []
  },
  {
   "cell_type": "code",
   "execution_count": null,
   "metadata": {},
   "outputs": [],
   "source": [
    "reporting_df['action_as_str'] = reporting_df['action'].apply(lambda x: '|'.join([str(y) for y in x]))\n",
    "reporting_df['optimal_action_id'] = reporting_df['action'].apply(lambda x: all(x == env.optimal_action))\n",
    "reporting_df.tail()"
   ]
  },
  {
   "cell_type": "code",
   "execution_count": null,
   "metadata": {},
   "outputs": [],
   "source": [
    "policy_batch_check = 500\n",
    "reporting_df['policy_batch_check'] = (reporting_df['time_idx']  - reporting_df['time_idx'] % policy_batch_check)\n",
    "reporting_df.groupby(['policy_batch_check']).size()"
   ]
  },
  {
   "cell_type": "code",
   "execution_count": 113,
   "metadata": {},
   "outputs": [],
   "source": [
    "policy_prob_df = reporting_df.assign(n_trials=1).groupby(['policy_batch_check'], as_index=False)[['n_trials','optimal_action_id']].sum().assign(\n",
    "    prob_of_optimal_action=lambda x: x['optimal_action_id'] /  x['n_trials']\n",
    ")"
   ]
  },
  {
   "cell_type": "code",
   "execution_count": null,
   "metadata": {},
   "outputs": [],
   "source": [
    "alt.Chart(policy_prob_df).mark_line().encode(\n",
    "    x='policy_batch_check', y='prob_of_optimal_action'\n",
    ").properties(\n",
    "    width=700, \n",
    ")"
   ]
  },
  {
   "cell_type": "code",
   "execution_count": null,
   "metadata": {},
   "outputs": [],
   "source": [
    "actuals_df = pd.DataFrame(dict(w=env.weights)).assign(action=lambda x: x.index)\n",
    "actuals_df.head()\n"
   ]
  },
  {
   "cell_type": "code",
   "execution_count": null,
   "metadata": {},
   "outputs": [],
   "source": [
    "all_pdf = []\n",
    "for idx in range(policy.n_actions):\n",
    "    pdf = plot_beta_dist(\n",
    "        alpha=policy.alpha[idx] + policy.reward_counts[idx],\n",
    "        beta=policy.beta[idx] + (policy.action_counts[idx] - policy.reward_counts[idx])\n",
    "    ).assign(\n",
    "        action=idx,\n",
    "    )\n",
    "    all_pdf.append(pdf)\n",
    "\n",
    "all_pdf_df = pd.concat(all_pdf, axis=0).reset_index(drop=True)    \n",
    "all_pdf_df.head()\n"
   ]
  },
  {
   "cell_type": "code",
   "execution_count": null,
   "metadata": {},
   "outputs": [],
   "source": [
    "pdf_charts = alt.Chart(all_pdf_df).mark_line().encode(\n",
    "    y=alt.Y('pdf'),\n",
    "    x=alt.X('x'),\n",
    "    color=alt.Color('action:N', legend=None)\n",
    ")\n",
    "\n",
    "actual_charts = alt.Chart(actuals_df).mark_rule().encode(\n",
    "    x=alt.X('w'),\n",
    "    color=alt.Color('action:N', legend=None)\n",
    ")\n",
    "\n",
    "final_chart = (pdf_charts + actual_charts).properties(\n",
    "    width=500, height=250\n",
    ")\n",
    "\n",
    "final_chart\n",
    "\n"
   ]
  },
  {
   "cell_type": "markdown",
   "metadata": {},
   "source": [
    "## Pessimistic priors"
   ]
  },
  {
   "cell_type": "code",
   "execution_count": 130,
   "metadata": {},
   "outputs": [],
   "source": [
    "policy = BernoulliTS(\n",
    "    n_actions=env.n_actions,\n",
    "    len_list=env.len_list,\n",
    "    random_state=1234,\n",
    "    batch_size=1,\n",
    "    alpha=np.ones(env.n_actions) * 1,\n",
    "    beta=np.ones(env.n_actions) * 99,\n",
    ")"
   ]
  },
  {
   "cell_type": "code",
   "execution_count": null,
   "metadata": {},
   "outputs": [],
   "source": [
    "prior_df = plot_beta_dist(alpha=1, beta=99)\n",
    "actuals_df = pd.DataFrame(dict(w=env.weights)).assign(action=lambda x: x.index)\n",
    "actuals_df.head()"
   ]
  },
  {
   "cell_type": "code",
   "execution_count": null,
   "metadata": {},
   "outputs": [],
   "source": [
    "prior_df.head()"
   ]
  },
  {
   "cell_type": "code",
   "execution_count": null,
   "metadata": {},
   "outputs": [],
   "source": [
    "actuals_chart = alt.Chart(actuals_df).mark_rule(opacity=0.5).encode(\n",
    "    x='w',\n",
    ")\n",
    "priors_chart = alt.Chart(prior_df).mark_area(opacity=0.5).encode(\n",
    "    x='x',\n",
    "    y=alt.Y('pdf')\n",
    ")\n",
    "\n",
    "final_chart = (\n",
    "    priors_chart + actuals_chart\n",
    ").properties(\n",
    "    width=500, height=200\n",
    ")\n",
    "\n",
    "final_chart"
   ]
  },
  {
   "cell_type": "code",
   "execution_count": null,
   "metadata": {},
   "outputs": [],
   "source": [
    "observation, info = env.reset(seed=1234)\n",
    "action = policy.select_action()\n",
    "action"
   ]
  },
  {
   "cell_type": "code",
   "execution_count": 135,
   "metadata": {},
   "outputs": [],
   "source": [
    "reporting = []\n",
    "\n",
    "while True:\n",
    "    _, reward, terminated, truncated, info = env.step(action=action)\n",
    "    reporting.append(dict(\n",
    "        action=action,\n",
    "        reward=reward,\n",
    "        prob_of_click=info[\"prob_of_click\"],        \n",
    "    ))\n",
    "\n",
    "    policy.cascade_params_update(\n",
    "        action=action,\n",
    "        reward_position=info[\"position_of_click\"]\n",
    "    )\n",
    "\n",
    "    if truncated:\n",
    "        break    \n",
    "    \n",
    "    action = policy.select_action()"
   ]
  },
  {
   "cell_type": "code",
   "execution_count": null,
   "metadata": {},
   "outputs": [],
   "source": [
    "reporting_df = pd.DataFrame(reporting).assign(\n",
    "    optimal_prob_of_click=env.optimal_reward,\n",
    "    time_idx=lambda x: x.index\n",
    ")\n",
    "reporting_df['avg_reward'] = reporting_df['reward'].cumsum() / reporting_df['time_idx']\n",
    "reporting_df['avg_reward'] = reporting_df['avg_reward'].fillna(0)\n",
    "reporting_df['action_as_str'] = reporting_df['action'].apply(lambda x: '|'.join([str(y) for y in x]))\n",
    "reporting_df['optimal_action_id'] = reporting_df['action'].apply(lambda x: all(x == env.optimal_action))\n",
    "\n",
    "\n",
    "reporting_df.head()"
   ]
  },
  {
   "cell_type": "code",
   "execution_count": null,
   "metadata": {},
   "outputs": [],
   "source": [
    "reporting_ff_df = reporting_df.melt(\n",
    "    id_vars=['time_idx', 'action'],\n",
    "    value_vars=['prob_of_click', 'optimal_prob_of_click']\n",
    ")\n",
    "\n",
    "reporting_ff_df.head()"
   ]
  },
  {
   "cell_type": "code",
   "execution_count": null,
   "metadata": {},
   "outputs": [],
   "source": [
    "plot_every = 100\n",
    "mask = (reporting_ff_df['time_idx'] % plot_every) == 0\n",
    "mask.sum()"
   ]
  },
  {
   "cell_type": "code",
   "execution_count": null,
   "metadata": {},
   "outputs": [],
   "source": [
    "alt.Chart(reporting_ff_df[mask]).mark_line().encode(\n",
    "    y=alt.Y('value'),\n",
    "    x=alt.X('time_idx'),\n",
    "    color='variable'\n",
    ").properties(width=600)"
   ]
  },
  {
   "cell_type": "code",
   "execution_count": null,
   "metadata": {},
   "outputs": [],
   "source": [
    "pred = (policy.reward_counts / policy.action_counts)\n",
    "act = env.weights\n",
    "\n",
    "\n",
    "chart_df = pd.DataFrame(dict(pred=pred, act=act)).assign(\n",
    "    diff=lambda x: (x.act - x.pred).abs()\n",
    ").assign(\n",
    "    arm=lambda x: x.index,\n",
    "    optimal_arm=lambda x: x.arm.isin(env.optimal_action),\n",
    "    act_sort=lambda x: x.act,\n",
    ").sort_values(['diff'], ascending=False).reset_index(drop=True)\n",
    "\n",
    "chart_ff_df = chart_df.melt(id_vars=['arm', 'optimal_arm', 'diff', 'act_sort'])\n",
    "alt.Chart(chart_ff_df).mark_point().encode(\n",
    "    y=alt.Y('arm:O', sort=alt.SortField(\"act_sort\", \"descending\")),\n",
    "    x=alt.X('value'),\n",
    "    color=alt.Color('variable'),\n",
    ")"
   ]
  },
  {
   "cell_type": "code",
   "execution_count": null,
   "metadata": {},
   "outputs": [],
   "source": [
    "plot_every = 10\n",
    "mask = (reporting_ff_df['time_idx'] % plot_every) == 0\n",
    "alt.Chart(reporting_df[mask]).mark_line().encode(\n",
    "    x='time_idx', y='avg_reward'\n",
    ").properties(\n",
    "    width=700, \n",
    ")"
   ]
  },
  {
   "cell_type": "code",
   "execution_count": 142,
   "metadata": {},
   "outputs": [],
   "source": [
    "policy_batch_check = 500\n",
    "reporting_df['policy_batch_check'] = (reporting_df['time_idx']  - reporting_df['time_idx'] % policy_batch_check)\n",
    "policy_prob_df = reporting_df.assign(n_trials=1).groupby(['policy_batch_check'], as_index=False)[['n_trials','optimal_action_id']].sum().assign(\n",
    "    prob_of_optimal_action=lambda x: x['optimal_action_id'] /  x['n_trials']\n",
    ")"
   ]
  },
  {
   "cell_type": "code",
   "execution_count": null,
   "metadata": {},
   "outputs": [],
   "source": [
    "alt.Chart(policy_prob_df).mark_line().encode(\n",
    "    x='policy_batch_check', y='prob_of_optimal_action'\n",
    ").properties(\n",
    "    width=700, \n",
    ")"
   ]
  },
  {
   "cell_type": "code",
   "execution_count": null,
   "metadata": {},
   "outputs": [],
   "source": [
    "actuals_df = pd.DataFrame(dict(w=env.weights)).assign(action=lambda x: x.index)\n",
    "actuals_df.head()"
   ]
  },
  {
   "cell_type": "code",
   "execution_count": 145,
   "metadata": {},
   "outputs": [],
   "source": [
    "all_pdf = []\n",
    "for idx in range(policy.n_actions):\n",
    "    pdf = plot_beta_dist(\n",
    "        alpha=policy.alpha[idx] + policy.reward_counts[idx],\n",
    "        beta=policy.beta[idx] + (policy.action_counts[idx] - policy.reward_counts[idx])\n",
    "    ).assign(\n",
    "        action=idx,\n",
    "    )\n",
    "    all_pdf.append(pdf)\n",
    "\n",
    "all_pdf_df = pd.concat(all_pdf, axis=0).reset_index(drop=True)    "
   ]
  },
  {
   "cell_type": "code",
   "execution_count": null,
   "metadata": {},
   "outputs": [],
   "source": [
    "pdf_charts = alt.Chart(all_pdf_df).mark_line().encode(\n",
    "    y=alt.Y('pdf'),\n",
    "    x=alt.X('x'),\n",
    "    color=alt.Color('action:N', legend=None)\n",
    ")\n",
    "\n",
    "actual_charts = alt.Chart(actuals_df).mark_rule().encode(\n",
    "    x=alt.X('w'),\n",
    "    color=alt.Color('action:N', legend=None)\n",
    ")\n",
    "\n",
    "final_chart = (pdf_charts + actual_charts).properties(\n",
    "    width=500, height=250\n",
    ")\n",
    "\n",
    "final_chart"
   ]
  },
  {
   "cell_type": "code",
   "execution_count": null,
   "metadata": {},
   "outputs": [],
   "source": []
  },
  {
   "cell_type": "code",
   "execution_count": null,
   "metadata": {},
   "outputs": [],
   "source": []
  }
 ],
 "metadata": {
  "kernelspec": {
   "display_name": ".venv",
   "language": "python",
   "name": "python3"
  },
  "language_info": {
   "codemirror_mode": {
    "name": "ipython",
    "version": 3
   },
   "file_extension": ".py",
   "mimetype": "text/x-python",
   "name": "python",
   "nbconvert_exporter": "python",
   "pygments_lexer": "ipython3",
   "version": "3.11.7"
  }
 },
 "nbformat": 4,
 "nbformat_minor": 2
}
