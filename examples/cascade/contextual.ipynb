{
 "cells": [
  {
   "cell_type": "code",
   "execution_count": 1,
   "metadata": {},
   "outputs": [],
   "source": [
    "import numpy as np\n",
    "import pandas as pd\n",
    "import altair as alt\n",
    "from bandits.environment.cascade.contextual import CascadeContextualBandit\n",
    "from bandits.policy.context_free import BernoulliTS, Random\n",
    "import vegafusion as vf\n",
    "from typing import TypedDict\n",
    "from dataclasses import dataclass"
   ]
  },
  {
   "cell_type": "code",
   "execution_count": null,
   "metadata": {},
   "outputs": [],
   "source": [
    "alt.data_transformers.enable('json') # saves the data locally in .json file so notebook doesn't get large\n",
    "# or can allow altair to keep the data in the notebook using alt.data_transformers.disable_max_rows() but it will create large notebooks!"
   ]
  },
  {
   "cell_type": "markdown",
   "metadata": {},
   "source": [
    "# helper functions"
   ]
  },
  {
   "cell_type": "code",
   "execution_count": 3,
   "metadata": {},
   "outputs": [],
   "source": [
    "class ActionRewardLogging(TypedDict):\n",
    "    action: list[int]\n",
    "    reward: float\n",
    "    prob_of_click: float\n",
    "    context: int\n"
   ]
  },
  {
   "cell_type": "markdown",
   "metadata": {},
   "source": [
    "# Env setup"
   ]
  },
  {
   "cell_type": "code",
   "execution_count": 128,
   "metadata": {},
   "outputs": [],
   "source": [
    "N_CONTEXTS = 10\n",
    "N_ACTIONS = 50\n",
    "LEN_LIST = 5"
   ]
  },
  {
   "cell_type": "code",
   "execution_count": 138,
   "metadata": {},
   "outputs": [],
   "source": [
    "np.random.seed(1234)\n",
    "\n",
    "env = CascadeContextualBandit(\n",
    "    weights=np.random.beta(a=1, b=99, size=N_CONTEXTS * N_ACTIONS).reshape((N_CONTEXTS, N_ACTIONS)),\n",
    "    max_steps=500_000,\n",
    "    len_list=LEN_LIST,\n",
    ")"
   ]
  },
  {
   "cell_type": "markdown",
   "metadata": {},
   "source": [
    "# Thompson Sampling Policy"
   ]
  },
  {
   "cell_type": "markdown",
   "metadata": {},
   "source": [
    "## Uninformed Prior"
   ]
  },
  {
   "cell_type": "code",
   "execution_count": 139,
   "metadata": {},
   "outputs": [],
   "source": [
    "policy: dict[int, BernoulliTS] = {}\n",
    "\n",
    "for idx in range(env.dim):\n",
    "    policy[idx] = BernoulliTS(\n",
    "        n_actions=N_ACTIONS,\n",
    "        alpha=1,\n",
    "        beta=1,\n",
    "        len_list=env.len_list,\n",
    "        random_state=1234,\n",
    "        batch_size=1,\n",
    "    )"
   ]
  },
  {
   "cell_type": "code",
   "execution_count": null,
   "metadata": {},
   "outputs": [],
   "source": [
    "policy"
   ]
  },
  {
   "cell_type": "code",
   "execution_count": null,
   "metadata": {},
   "outputs": [],
   "source": [
    "observation, info = env.reset(seed=1234)\n",
    "observation"
   ]
  },
  {
   "cell_type": "code",
   "execution_count": null,
   "metadata": {},
   "outputs": [],
   "source": [
    "context = np.where(observation==1)[0][0]\n",
    "context"
   ]
  },
  {
   "cell_type": "code",
   "execution_count": null,
   "metadata": {},
   "outputs": [],
   "source": [
    "env.optimal_action"
   ]
  },
  {
   "cell_type": "code",
   "execution_count": 144,
   "metadata": {},
   "outputs": [],
   "source": [
    "policy_for_context = policy[context]\n",
    "action = policy_for_context.select_action()"
   ]
  },
  {
   "cell_type": "code",
   "execution_count": 145,
   "metadata": {},
   "outputs": [],
   "source": [
    "reporting: list[ActionRewardLogging] = []\n",
    "\n",
    "while True:\n",
    "    new_observation, reward, terminated, truncated, info = env.step(action=action)\n",
    "    reporting.append(dict(\n",
    "        action=action,\n",
    "        reward=reward,\n",
    "        prob_of_click=info[\"prob_of_click\"],\n",
    "        context=context,\n",
    "    ))\n",
    "\n",
    "    policy_for_context.cascade_params_update(\n",
    "        action=action,\n",
    "        reward_position=info[\"position_of_click\"],\n",
    "    )\n",
    "\n",
    "    if truncated:\n",
    "        break\n",
    "\n",
    "    observation = new_observation\n",
    "    context = np.where(observation==1)[0][0]\n",
    "    policy_for_context = policy[context]\n",
    "    action = policy_for_context.select_action()"
   ]
  },
  {
   "cell_type": "code",
   "execution_count": null,
   "metadata": {},
   "outputs": [],
   "source": [
    "reporting_df = pd.DataFrame(reporting)\n",
    "reporting_df.head()"
   ]
  },
  {
   "cell_type": "code",
   "execution_count": null,
   "metadata": {},
   "outputs": [],
   "source": [
    "reporting_df['optimal_prob_of_click'] = reporting_df['context'].apply(lambda x: env.optimal_reward[x])\n",
    "reporting_df.head()"
   ]
  },
  {
   "cell_type": "code",
   "execution_count": null,
   "metadata": {},
   "outputs": [],
   "source": [
    "reporting_ff_df = reporting_df.assign(\n",
    "    time_idx=lambda x: x.index\n",
    ").melt(\n",
    "    id_vars=['time_idx', 'context'],\n",
    "    value_vars=['prob_of_click', 'optimal_prob_of_click']\n",
    ")\n",
    "# start from 0\n",
    "reporting_ff_df['context_time_idx'] = reporting_ff_df.sort_values(['context', 'time_idx']).assign(n=1).groupby(['context'])['n'].cumsum() - 1\n",
    "reporting_ff_df.head()"
   ]
  },
  {
   "cell_type": "code",
   "execution_count": null,
   "metadata": {},
   "outputs": [],
   "source": [
    "alt.Chart(reporting_ff_df).mark_line().encode(\n",
    "    x='context_time_idx',\n",
    "    color='variable',\n",
    "    y='value',\n",
    "    facet=alt.Facet('context:O', columns=2)\n",
    ").properties(\n",
    "    width=300, height=100\n",
    ").resolve_scale(y='independent')"
   ]
  },
  {
   "cell_type": "code",
   "execution_count": null,
   "metadata": {},
   "outputs": [],
   "source": []
  }
 ],
 "metadata": {
  "kernelspec": {
   "display_name": ".venv",
   "language": "python",
   "name": "python3"
  },
  "language_info": {
   "codemirror_mode": {
    "name": "ipython",
    "version": 3
   },
   "file_extension": ".py",
   "mimetype": "text/x-python",
   "name": "python",
   "nbconvert_exporter": "python",
   "pygments_lexer": "ipython3",
   "version": "3.11.7"
  }
 },
 "nbformat": 4,
 "nbformat_minor": 2
}
